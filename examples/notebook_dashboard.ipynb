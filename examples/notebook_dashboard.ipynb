{
 "cells": [
  {
   "cell_type": "code",
   "execution_count": null,
   "metadata": {
    "code_folding": [],
    "hide_input": false
   },
   "outputs": [],
   "source": [
    "# https://medium.com/@harimittapalli/exploratory-data-analysis-iris-dataset-9920ea439a3e\n",
    "import pandas as pd\n",
    "from sklearn.datasets import load_iris\n",
    "import pandas_bokeh\n",
    "import ipywidgets as widgets\n",
    "from ipywidgets import interact, interactive, fixed, interact_manual\n",
    "import plotly_express as px\n",
    "import pandas_bokeh\n",
    "import bokeh\n",
    "pandas_bokeh.output_notebook()\n",
    "dataset=load_iris()\n",
    "data=pd.DataFrame(dataset['data'],columns=['Petal length','Petal Width','Sepal Length','Sepal Width'])\n",
    "data['Species']=dataset['target']\n",
    "data['Species']=data['Species'].apply(lambda x: dataset['target_names'][x])\n",
    "\n",
    "select = widgets.SelectMultiple(\n",
    "    options=list(data.Species.unique()),\n",
    "    value=list(data.Species.unique()),\n",
    "    description='Species',\n",
    "    disabled=False\n",
    ")\n",
    "# display(select)"
   ]
  },
  {
   "cell_type": "code",
   "execution_count": null,
   "metadata": {
    "hide_input": false,
    "scrolled": false
   },
   "outputs": [],
   "source": [
    "# @interact\n",
    "# def display_user(column=['Petal length','Petal Width','Sepal Length','Sepal Width'], \n",
    "#                             x=(0, 10, 1)):\n",
    "#     return data.loc[data[column] > x]\n",
    "\n",
    "# pdf[pdf.Species.isin(input_value)]\n",
    "\n",
    "@interact(x=select)\n",
    "def g(x):\n",
    "    user_data= data[data.Species.isin(x)]\n",
    "    plot = px.scatter(\n",
    "    user_data,\n",
    "    x=\"Sepal Length\",\n",
    "    y=\"Sepal Width\",\n",
    "    color=\"Species\",\n",
    "    height=700\n",
    "    )\n",
    "#     p_scatter = user_data.plot_bokeh(\n",
    "#         kind=\"scatter\",\n",
    "#         x=\"Petal length\",\n",
    "#         y=\"Petal Width\",\n",
    "#         category=\"Species\",\n",
    "#         title=\"Iris DataSet Visualization\",\n",
    "#         show_figure=False\n",
    "#         )\n",
    "    # pandas_bokeh.show(p_scatter)\n",
    "    return display(plot, \n",
    "                   user_data, \n",
    "                   #pandas_bokeh.show(p_scatter)\n",
    "                  )"
   ]
  },
  {
   "cell_type": "code",
   "execution_count": null,
   "metadata": {},
   "outputs": [],
   "source": []
  }
 ],
 "metadata": {
  "hide_input": false,
  "kernelspec": {
   "display_name": "Python 3",
   "language": "python",
   "name": "python3"
  },
  "language_info": {
   "codemirror_mode": {
    "name": "ipython",
    "version": 3
   },
   "file_extension": ".py",
   "mimetype": "text/x-python",
   "name": "python",
   "nbconvert_exporter": "python",
   "pygments_lexer": "ipython3",
   "version": "3.6.10"
  }
 },
 "nbformat": 4,
 "nbformat_minor": 2
}
